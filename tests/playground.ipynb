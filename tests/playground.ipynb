{
 "cells": [
  {
   "cell_type": "code",
   "execution_count": 1,
   "metadata": {},
   "outputs": [],
   "source": [
    "import cvxpy as cp\n",
    "import numpy as np"
   ]
  },
  {
   "cell_type": "code",
   "execution_count": 29,
   "metadata": {},
   "outputs": [
    {
     "data": {
      "text/plain": [
       "0.05722493304064699"
      ]
     },
     "execution_count": 29,
     "metadata": {},
     "output_type": "execute_result"
    }
   ],
   "source": [
    "np.random.seed(1)\n",
    "\n",
    "A = np.random.randn(10, 10)\n",
    "r = np.random.randn(10, 1)*0\n",
    "r = np.zeros((10,1))\n",
    "Sigma = A.T @ A\n",
    "w = cp.Variable(shape=(10, 1), name=\"x\")\n",
    "\n",
    "obj = cp.Minimize(cp.quad_form(w, Sigma) - r.T @ w)\n",
    "constraints = [cp.sum(w) == 1]\n",
    "problem = cp.Problem(obj, constraints)\n",
    "problem.solve()"
   ]
  },
  {
   "cell_type": "code",
   "execution_count": 31,
   "metadata": {},
   "outputs": [
    {
     "data": {
      "text/plain": [
       "array([[ 0.24802866],\n",
       "       [ 0.03429784],\n",
       "       [ 0.35719376],\n",
       "       [ 0.14852699],\n",
       "       [-0.27949104],\n",
       "       [-0.01565613],\n",
       "       [ 0.11801894],\n",
       "       [-0.0297881 ],\n",
       "       [ 0.18537017],\n",
       "       [ 0.23349891]])"
      ]
     },
     "execution_count": 31,
     "metadata": {},
     "output_type": "execute_result"
    }
   ],
   "source": [
    "w.value"
   ]
  },
  {
   "cell_type": "code",
   "execution_count": 25,
   "metadata": {},
   "outputs": [
    {
     "data": {
      "text/plain": [
       "array([[ 0.24802866],\n",
       "       [ 0.03429784],\n",
       "       [ 0.35719376],\n",
       "       [ 0.14852699],\n",
       "       [-0.27949104],\n",
       "       [-0.01565613],\n",
       "       [ 0.11801894],\n",
       "       [-0.0297881 ],\n",
       "       [ 0.18537017],\n",
       "       [ 0.23349891]])"
      ]
     },
     "execution_count": 25,
     "metadata": {},
     "output_type": "execute_result"
    }
   ],
   "source": [
    "w.value"
   ]
  },
  {
   "cell_type": "code",
   "execution_count": 26,
   "metadata": {},
   "outputs": [
    {
     "data": {
      "text/plain": [
       "0.05722493304064699"
      ]
     },
     "execution_count": 26,
     "metadata": {},
     "output_type": "execute_result"
    }
   ],
   "source": [
    "obj = cp.Minimize(cp.quad_form(w, Sigma))\n",
    "constraints = [cp.sum(w) == 1]\n",
    "problem = cp.Problem(obj, constraints)\n",
    "problem.solve()"
   ]
  },
  {
   "cell_type": "code",
   "execution_count": 27,
   "metadata": {},
   "outputs": [
    {
     "data": {
      "text/plain": [
       "array([[ 0.24802866],\n",
       "       [ 0.03429784],\n",
       "       [ 0.35719376],\n",
       "       [ 0.14852699],\n",
       "       [-0.27949104],\n",
       "       [-0.01565613],\n",
       "       [ 0.11801894],\n",
       "       [-0.0297881 ],\n",
       "       [ 0.18537017],\n",
       "       [ 0.23349891]])"
      ]
     },
     "execution_count": 27,
     "metadata": {},
     "output_type": "execute_result"
    }
   ],
   "source": [
    "w.value"
   ]
  }
 ],
 "metadata": {
  "kernelspec": {
   "display_name": "Python 3.9.12 ('.venv': poetry)",
   "language": "python",
   "name": "python3"
  },
  "language_info": {
   "codemirror_mode": {
    "name": "ipython",
    "version": 3
   },
   "file_extension": ".py",
   "mimetype": "text/x-python",
   "name": "python",
   "nbconvert_exporter": "python",
   "pygments_lexer": "ipython3",
   "version": "3.9.12"
  },
  "orig_nbformat": 4,
  "vscode": {
   "interpreter": {
    "hash": "9d86e0b57fa6e6389561eff3b1ed41f041ef9c8aa5c477b83c0f13b592ecdc7c"
   }
  }
 },
 "nbformat": 4,
 "nbformat_minor": 2
}
