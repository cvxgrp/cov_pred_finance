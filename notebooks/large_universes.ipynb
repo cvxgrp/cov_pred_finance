{
 "cells": [
  {
   "cell_type": "code",
   "execution_count": 11,
   "metadata": {},
   "outputs": [
    {
     "name": "stdout",
     "output_type": "stream",
     "text": [
      "The autoreload extension is already loaded. To reload it, use:\n",
      "  %reload_ext autoreload\n"
     ]
    }
   ],
   "source": [
    "import cvxpy as cp\n",
    "import numpy as np\n",
    "import pandas as pd\n",
    "import matplotlib.pyplot as plt\n",
    "\n",
    "from cvx.covariance.iterated_ewma import iterated_ewma, ewma\n",
    "from cvx.covariance.log_likelihood import log_likelihood\n",
    "\n",
    "%load_ext autoreload\n",
    "%autoreload 2"
   ]
  },
  {
   "cell_type": "markdown",
   "metadata": {},
   "source": [
    "# Data"
   ]
  },
  {
   "cell_type": "code",
   "execution_count": 12,
   "metadata": {},
   "outputs": [],
   "source": [
    "data = pd.read_csv(\"/Users/kasper/Documents/Stanford/Research/Data/SP500/asset_data_2000_to_2023.csv\", index_col=0, parse_dates=True)\n",
    "\n",
    "data = data.drop([\"TICKER\", \"PERMCO\"], axis=1)\n",
    "prices = pd.pivot_table(data, values='PRC', index='date', columns='PERMNO', fill_value=None)\n",
    "prices.index = pd.to_datetime(prices.index, format=\"%Y-%m-%d\")\n",
    "returns = prices.pct_change().dropna(axis=0, how=\"all\")"
   ]
  },
  {
   "cell_type": "code",
   "execution_count": 14,
   "metadata": {},
   "outputs": [],
   "source": [
    "from cvx.covariance.iterated_ewma import iterated_ewma, ewma\n",
    "iewma = iterated_ewma(returns.loc[:], vola_halflife=63, cov_halflife=125, min_periods_vola=21, min_periods_cov=250)\n"
   ]
  },
  {
   "cell_type": "code",
   "execution_count": 20,
   "metadata": {},
   "outputs": [
    {
     "data": {
      "text/plain": [
       "array([1, 2, 3])"
      ]
     },
     "execution_count": 20,
     "metadata": {},
     "output_type": "execute_result"
    }
   ],
   "source": [
    "r = np.array([1,2,3])\n",
    "np.diagonal(np.diag(r))"
   ]
  },
  {
   "cell_type": "code",
   "execution_count": 10,
   "metadata": {},
   "outputs": [
    {
     "data": {
      "text/plain": [
       "1.4062440990315894e-16"
      ]
     },
     "execution_count": 10,
     "metadata": {},
     "output_type": "execute_result"
    }
   ],
   "source": [
    "(iewma[returns.index[500]]-iewma2[returns.index[500]]).max().sum()"
   ]
  },
  {
   "cell_type": "code",
   "execution_count": 30,
   "metadata": {},
   "outputs": [
    {
     "ename": "AttributeError",
     "evalue": "type object 'DataFrame' has no attribute 'zeros_like'",
     "output_type": "error",
     "traceback": [
      "\u001b[0;31m---------------------------------------------------------------------------\u001b[0m",
      "\u001b[0;31mAttributeError\u001b[0m                            Traceback (most recent call last)",
      "Cell \u001b[0;32mIn[30], line 1\u001b[0m\n\u001b[0;32m----> 1\u001b[0m \u001b[43mpd\u001b[49m\u001b[38;5;241;43m.\u001b[39;49m\u001b[43mDataFrame\u001b[49m\u001b[38;5;241;43m.\u001b[39;49m\u001b[43mzeros_like\u001b[49m(returns)\n",
      "\u001b[0;31mAttributeError\u001b[0m: type object 'DataFrame' has no attribute 'zeros_like'"
     ]
    }
   ],
   "source": [
    "pd.DataFrame.zeros_like(returns)"
   ]
  },
  {
   "cell_type": "code",
   "execution_count": 28,
   "metadata": {},
   "outputs": [],
   "source": [
    "temp = returns.iloc[:10,:10]"
   ]
  },
  {
   "cell_type": "code",
   "execution_count": 29,
   "metadata": {},
   "outputs": [
    {
     "data": {
      "text/plain": [
       "(array([-0.08487831+0.j        ,  0.03567481+0.06252618j,\n",
       "         0.03567481-0.06252618j,  0.00565754+0.05058938j,\n",
       "         0.00565754-0.05058938j, -0.01704801+0.02093535j,\n",
       "        -0.01704801-0.02093535j, -0.02102589+0.j        ,\n",
       "         0.05281069+0.00200257j,  0.05281069-0.00200257j]),\n",
       " array([[ 0.54722827+0.j        , -0.09093886+0.07855401j,\n",
       "         -0.09093886-0.07855401j,  0.11542573+0.04217187j,\n",
       "          0.11542573-0.04217187j, -0.05135016-0.11398781j,\n",
       "         -0.05135016+0.11398781j, -0.00281288+0.j        ,\n",
       "          0.2245151 -0.00569826j,  0.2245151 +0.00569826j],\n",
       "        [-0.09253261+0.j        ,  0.16266078-0.41869277j,\n",
       "          0.16266078+0.41869277j,  0.06170169-0.3683517j ,\n",
       "          0.06170169+0.3683517j , -0.18800843+0.27445544j,\n",
       "         -0.18800843-0.27445544j, -0.26488554+0.j        ,\n",
       "         -0.66524191+0.j        , -0.66524191-0.j        ],\n",
       "        [ 0.24373161+0.j        ,  0.47859989+0.j        ,\n",
       "          0.47859989-0.j        ,  0.13121299+0.39328585j,\n",
       "          0.13121299-0.39328585j, -0.08476218+0.03901876j,\n",
       "         -0.08476218-0.03901876j, -0.16424539+0.j        ,\n",
       "          0.00376764-0.00091375j,  0.00376764+0.00091375j],\n",
       "        [-0.33442981+0.j        ,  0.05378377-0.05772304j,\n",
       "          0.05378377+0.05772304j, -0.2204803 -0.36405685j,\n",
       "         -0.2204803 +0.36405685j, -0.1261346 +0.22583776j,\n",
       "         -0.1261346 -0.22583776j, -0.13877045+0.j        ,\n",
       "         -0.05831319+0.06437493j, -0.05831319-0.06437493j],\n",
       "        [-0.52027957+0.j        , -0.08794143+0.18857061j,\n",
       "         -0.08794143-0.18857061j,  0.06575705+0.04760731j,\n",
       "          0.06575705-0.04760731j,  0.1823263 -0.03457135j,\n",
       "          0.1823263 +0.03457135j,  0.12756975+0.j        ,\n",
       "          0.4012719 -0.01704546j,  0.4012719 +0.01704546j],\n",
       "        [ 0.09483248+0.j        ,  0.17053707+0.12579262j,\n",
       "          0.17053707-0.12579262j,  0.26172659+0.1717737j ,\n",
       "          0.26172659-0.1717737j , -0.15444776-0.05805809j,\n",
       "         -0.15444776+0.05805809j, -0.18397556+0.j        ,\n",
       "         -0.14960177+0.00728706j, -0.14960177-0.00728706j],\n",
       "        [ 0.41601523+0.j        ,  0.27900508-0.19599365j,\n",
       "          0.27900508+0.19599365j,  0.54025391+0.j        ,\n",
       "          0.54025391-0.j        , -0.22076657-0.26055124j,\n",
       "         -0.22076657+0.26055124j, -0.15856132+0.j        ,\n",
       "          0.33962651+0.00176573j,  0.33962651-0.00176573j],\n",
       "        [-0.07306032+0.j        ,  0.18010654-0.32650183j,\n",
       "          0.18010654+0.32650183j,  0.11944535+0.15738079j,\n",
       "          0.11944535-0.15738079j,  0.60074223+0.j        ,\n",
       "          0.60074223-0.j        ,  0.70064675+0.j        ,\n",
       "         -0.38437013+0.01057382j, -0.38437013-0.01057382j],\n",
       "        [ 0.23274344+0.j        , -0.08409252-0.08012096j,\n",
       "         -0.08409252+0.08012096j, -0.10161386-0.098159j  ,\n",
       "         -0.10161386+0.098159j  ,  0.40694559-0.22543069j,\n",
       "          0.40694559+0.22543069j,  0.54653078+0.j        ,\n",
       "         -0.1232894 -0.00266399j, -0.1232894 +0.00266399j],\n",
       "        [ 0.09203545+0.j        ,  0.08740287+0.42881948j,\n",
       "          0.08740287-0.42881948j, -0.18008803-0.06684977j,\n",
       "         -0.18008803+0.06684977j, -0.20608376-0.00201902j,\n",
       "         -0.20608376+0.00201902j, -0.13685561+0.j        ,\n",
       "         -0.19099527-0.02868071j, -0.19099527+0.02868071j]]))"
      ]
     },
     "execution_count": 29,
     "metadata": {},
     "output_type": "execute_result"
    }
   ],
   "source": [
    "np.linalg.eig(temp)"
   ]
  },
  {
   "cell_type": "code",
   "execution_count": 36,
   "metadata": {},
   "outputs": [
    {
     "data": {
      "text/html": [
       "<div>\n",
       "<style scoped>\n",
       "    .dataframe tbody tr th:only-of-type {\n",
       "        vertical-align: middle;\n",
       "    }\n",
       "\n",
       "    .dataframe tbody tr th {\n",
       "        vertical-align: top;\n",
       "    }\n",
       "\n",
       "    .dataframe thead th {\n",
       "        text-align: right;\n",
       "    }\n",
       "</style>\n",
       "<table border=\"1\" class=\"dataframe\">\n",
       "  <thead>\n",
       "    <tr style=\"text-align: right;\">\n",
       "      <th>PERMNO</th>\n",
       "      <th>10104</th>\n",
       "      <th>10107</th>\n",
       "      <th>10138</th>\n",
       "      <th>10145</th>\n",
       "      <th>10516</th>\n",
       "      <th>11308</th>\n",
       "      <th>11404</th>\n",
       "      <th>11674</th>\n",
       "      <th>11762</th>\n",
       "      <th>11850</th>\n",
       "      <th>...</th>\n",
       "      <th>82775</th>\n",
       "      <th>84381</th>\n",
       "      <th>85348</th>\n",
       "      <th>85631</th>\n",
       "      <th>85913</th>\n",
       "      <th>85914</th>\n",
       "      <th>85926</th>\n",
       "      <th>86136</th>\n",
       "      <th>87055</th>\n",
       "      <th>92655</th>\n",
       "    </tr>\n",
       "    <tr>\n",
       "      <th>date</th>\n",
       "      <th></th>\n",
       "      <th></th>\n",
       "      <th></th>\n",
       "      <th></th>\n",
       "      <th></th>\n",
       "      <th></th>\n",
       "      <th></th>\n",
       "      <th></th>\n",
       "      <th></th>\n",
       "      <th></th>\n",
       "      <th></th>\n",
       "      <th></th>\n",
       "      <th></th>\n",
       "      <th></th>\n",
       "      <th></th>\n",
       "      <th></th>\n",
       "      <th></th>\n",
       "      <th></th>\n",
       "      <th></th>\n",
       "      <th></th>\n",
       "      <th></th>\n",
       "    </tr>\n",
       "  </thead>\n",
       "  <tbody>\n",
       "    <tr>\n",
       "      <th>2000-01-04</th>\n",
       "      <td>-0.088360</td>\n",
       "      <td>-0.033780</td>\n",
       "      <td>-0.030249</td>\n",
       "      <td>-0.017641</td>\n",
       "      <td>-0.010417</td>\n",
       "      <td>-0.008869</td>\n",
       "      <td>0.012963</td>\n",
       "      <td>0.002079</td>\n",
       "      <td>-0.034151</td>\n",
       "      <td>-0.017586</td>\n",
       "      <td>...</td>\n",
       "      <td>-0.033149</td>\n",
       "      <td>-0.036709</td>\n",
       "      <td>-0.020101</td>\n",
       "      <td>-0.048689</td>\n",
       "      <td>-0.006148</td>\n",
       "      <td>-0.002174</td>\n",
       "      <td>0.038323</td>\n",
       "      <td>0.010830</td>\n",
       "      <td>-0.054775</td>\n",
       "      <td>-0.012791</td>\n",
       "    </tr>\n",
       "    <tr>\n",
       "      <th>2000-01-05</th>\n",
       "      <td>-0.052815</td>\n",
       "      <td>0.010544</td>\n",
       "      <td>-0.001835</td>\n",
       "      <td>-0.013468</td>\n",
       "      <td>-0.015789</td>\n",
       "      <td>0.019016</td>\n",
       "      <td>0.045704</td>\n",
       "      <td>0.031120</td>\n",
       "      <td>0.008160</td>\n",
       "      <td>0.054516</td>\n",
       "      <td>...</td>\n",
       "      <td>-0.030000</td>\n",
       "      <td>0.005256</td>\n",
       "      <td>0.005128</td>\n",
       "      <td>-0.062992</td>\n",
       "      <td>0.016495</td>\n",
       "      <td>-0.023965</td>\n",
       "      <td>0.000000</td>\n",
       "      <td>0.021429</td>\n",
       "      <td>0.017088</td>\n",
       "      <td>-0.002356</td>\n",
       "    </tr>\n",
       "    <tr>\n",
       "      <th>2000-01-06</th>\n",
       "      <td>-0.058824</td>\n",
       "      <td>-0.033498</td>\n",
       "      <td>0.029412</td>\n",
       "      <td>0.019340</td>\n",
       "      <td>0.005348</td>\n",
       "      <td>0.001098</td>\n",
       "      <td>0.001748</td>\n",
       "      <td>-0.004024</td>\n",
       "      <td>0.020683</td>\n",
       "      <td>0.049383</td>\n",
       "      <td>...</td>\n",
       "      <td>0.008837</td>\n",
       "      <td>-0.016993</td>\n",
       "      <td>-0.008503</td>\n",
       "      <td>-0.060924</td>\n",
       "      <td>0.014199</td>\n",
       "      <td>0.015625</td>\n",
       "      <td>0.026528</td>\n",
       "      <td>0.027972</td>\n",
       "      <td>0.020088</td>\n",
       "      <td>0.036600</td>\n",
       "    </tr>\n",
       "    <tr>\n",
       "      <th>2000-01-07</th>\n",
       "      <td>0.076823</td>\n",
       "      <td>0.013068</td>\n",
       "      <td>-0.007143</td>\n",
       "      <td>0.053571</td>\n",
       "      <td>0.015957</td>\n",
       "      <td>0.065789</td>\n",
       "      <td>0.006981</td>\n",
       "      <td>0.010101</td>\n",
       "      <td>0.030837</td>\n",
       "      <td>-0.000735</td>\n",
       "      <td>...</td>\n",
       "      <td>0.046715</td>\n",
       "      <td>0.027926</td>\n",
       "      <td>-0.022298</td>\n",
       "      <td>0.118568</td>\n",
       "      <td>0.028000</td>\n",
       "      <td>0.024176</td>\n",
       "      <td>0.035955</td>\n",
       "      <td>-0.020408</td>\n",
       "      <td>0.066237</td>\n",
       "      <td>0.117312</td>\n",
       "    </tr>\n",
       "    <tr>\n",
       "      <th>2000-01-10</th>\n",
       "      <td>0.119710</td>\n",
       "      <td>0.007291</td>\n",
       "      <td>0.010791</td>\n",
       "      <td>0.005297</td>\n",
       "      <td>0.000000</td>\n",
       "      <td>-0.031893</td>\n",
       "      <td>-0.025997</td>\n",
       "      <td>0.006000</td>\n",
       "      <td>-0.025641</td>\n",
       "      <td>-0.013981</td>\n",
       "      <td>...</td>\n",
       "      <td>-0.016736</td>\n",
       "      <td>0.000000</td>\n",
       "      <td>0.040351</td>\n",
       "      <td>-0.012000</td>\n",
       "      <td>0.052529</td>\n",
       "      <td>-0.010730</td>\n",
       "      <td>0.029284</td>\n",
       "      <td>-0.010417</td>\n",
       "      <td>0.020819</td>\n",
       "      <td>-0.017329</td>\n",
       "    </tr>\n",
       "    <tr>\n",
       "      <th>...</th>\n",
       "      <td>...</td>\n",
       "      <td>...</td>\n",
       "      <td>...</td>\n",
       "      <td>...</td>\n",
       "      <td>...</td>\n",
       "      <td>...</td>\n",
       "      <td>...</td>\n",
       "      <td>...</td>\n",
       "      <td>...</td>\n",
       "      <td>...</td>\n",
       "      <td>...</td>\n",
       "      <td>...</td>\n",
       "      <td>...</td>\n",
       "      <td>...</td>\n",
       "      <td>...</td>\n",
       "      <td>...</td>\n",
       "      <td>...</td>\n",
       "      <td>...</td>\n",
       "      <td>...</td>\n",
       "      <td>...</td>\n",
       "      <td>...</td>\n",
       "    </tr>\n",
       "    <tr>\n",
       "      <th>2022-12-23</th>\n",
       "      <td>0.004473</td>\n",
       "      <td>0.002267</td>\n",
       "      <td>0.007617</td>\n",
       "      <td>0.007348</td>\n",
       "      <td>0.012087</td>\n",
       "      <td>0.007578</td>\n",
       "      <td>0.007251</td>\n",
       "      <td>0.015332</td>\n",
       "      <td>0.004420</td>\n",
       "      <td>0.026445</td>\n",
       "      <td>...</td>\n",
       "      <td>0.009950</td>\n",
       "      <td>0.003008</td>\n",
       "      <td>0.000621</td>\n",
       "      <td>0.000319</td>\n",
       "      <td>0.009238</td>\n",
       "      <td>0.011061</td>\n",
       "      <td>0.009905</td>\n",
       "      <td>0.004521</td>\n",
       "      <td>0.008589</td>\n",
       "      <td>0.008006</td>\n",
       "    </tr>\n",
       "    <tr>\n",
       "      <th>2022-12-27</th>\n",
       "      <td>0.001608</td>\n",
       "      <td>-0.007414</td>\n",
       "      <td>-0.003510</td>\n",
       "      <td>0.004769</td>\n",
       "      <td>0.013633</td>\n",
       "      <td>0.006111</td>\n",
       "      <td>0.007303</td>\n",
       "      <td>0.005821</td>\n",
       "      <td>0.003444</td>\n",
       "      <td>0.013894</td>\n",
       "      <td>...</td>\n",
       "      <td>0.006305</td>\n",
       "      <td>0.003155</td>\n",
       "      <td>0.007758</td>\n",
       "      <td>-0.009938</td>\n",
       "      <td>-0.001548</td>\n",
       "      <td>0.006269</td>\n",
       "      <td>0.002002</td>\n",
       "      <td>0.006910</td>\n",
       "      <td>-0.008970</td>\n",
       "      <td>0.001280</td>\n",
       "    </tr>\n",
       "    <tr>\n",
       "      <th>2022-12-28</th>\n",
       "      <td>-0.008027</td>\n",
       "      <td>-0.010255</td>\n",
       "      <td>-0.023932</td>\n",
       "      <td>-0.012565</td>\n",
       "      <td>-0.023877</td>\n",
       "      <td>-0.009967</td>\n",
       "      <td>-0.006007</td>\n",
       "      <td>-0.008471</td>\n",
       "      <td>-0.010106</td>\n",
       "      <td>-0.016426</td>\n",
       "      <td>...</td>\n",
       "      <td>-0.012139</td>\n",
       "      <td>-0.009163</td>\n",
       "      <td>-0.004542</td>\n",
       "      <td>-0.023565</td>\n",
       "      <td>-0.018537</td>\n",
       "      <td>-0.020645</td>\n",
       "      <td>-0.021374</td>\n",
       "      <td>-0.015865</td>\n",
       "      <td>-0.012017</td>\n",
       "      <td>-0.006654</td>\n",
       "    </tr>\n",
       "    <tr>\n",
       "      <th>2022-12-29</th>\n",
       "      <td>0.013320</td>\n",
       "      <td>0.027630</td>\n",
       "      <td>0.030070</td>\n",
       "      <td>0.012065</td>\n",
       "      <td>-0.005341</td>\n",
       "      <td>0.005978</td>\n",
       "      <td>0.005418</td>\n",
       "      <td>0.008120</td>\n",
       "      <td>0.010273</td>\n",
       "      <td>0.007566</td>\n",
       "      <td>...</td>\n",
       "      <td>0.009249</td>\n",
       "      <td>0.017399</td>\n",
       "      <td>0.005259</td>\n",
       "      <td>0.034195</td>\n",
       "      <td>0.016277</td>\n",
       "      <td>0.013347</td>\n",
       "      <td>0.022658</td>\n",
       "      <td>-0.002815</td>\n",
       "      <td>0.007815</td>\n",
       "      <td>0.002706</td>\n",
       "    </tr>\n",
       "    <tr>\n",
       "      <th>2022-12-30</th>\n",
       "      <td>0.004177</td>\n",
       "      <td>-0.004937</td>\n",
       "      <td>-0.020390</td>\n",
       "      <td>-0.002095</td>\n",
       "      <td>-0.002899</td>\n",
       "      <td>-0.005317</td>\n",
       "      <td>-0.012229</td>\n",
       "      <td>-0.013845</td>\n",
       "      <td>-0.002542</td>\n",
       "      <td>0.010073</td>\n",
       "      <td>...</td>\n",
       "      <td>-0.007201</td>\n",
       "      <td>-0.007934</td>\n",
       "      <td>-0.014694</td>\n",
       "      <td>-0.006645</td>\n",
       "      <td>0.006217</td>\n",
       "      <td>-0.012678</td>\n",
       "      <td>-0.004391</td>\n",
       "      <td>-0.008596</td>\n",
       "      <td>-0.000066</td>\n",
       "      <td>0.000566</td>\n",
       "    </tr>\n",
       "  </tbody>\n",
       "</table>\n",
       "<p>5786 rows × 200 columns</p>\n",
       "</div>"
      ],
      "text/plain": [
       "PERMNO         10104     10107     10138     10145     10516     11308  \\\n",
       "date                                                                     \n",
       "2000-01-04 -0.088360 -0.033780 -0.030249 -0.017641 -0.010417 -0.008869   \n",
       "2000-01-05 -0.052815  0.010544 -0.001835 -0.013468 -0.015789  0.019016   \n",
       "2000-01-06 -0.058824 -0.033498  0.029412  0.019340  0.005348  0.001098   \n",
       "2000-01-07  0.076823  0.013068 -0.007143  0.053571  0.015957  0.065789   \n",
       "2000-01-10  0.119710  0.007291  0.010791  0.005297  0.000000 -0.031893   \n",
       "...              ...       ...       ...       ...       ...       ...   \n",
       "2022-12-23  0.004473  0.002267  0.007617  0.007348  0.012087  0.007578   \n",
       "2022-12-27  0.001608 -0.007414 -0.003510  0.004769  0.013633  0.006111   \n",
       "2022-12-28 -0.008027 -0.010255 -0.023932 -0.012565 -0.023877 -0.009967   \n",
       "2022-12-29  0.013320  0.027630  0.030070  0.012065 -0.005341  0.005978   \n",
       "2022-12-30  0.004177 -0.004937 -0.020390 -0.002095 -0.002899 -0.005317   \n",
       "\n",
       "PERMNO         11404     11674     11762     11850  ...     82775     84381  \\\n",
       "date                                                ...                       \n",
       "2000-01-04  0.012963  0.002079 -0.034151 -0.017586  ... -0.033149 -0.036709   \n",
       "2000-01-05  0.045704  0.031120  0.008160  0.054516  ... -0.030000  0.005256   \n",
       "2000-01-06  0.001748 -0.004024  0.020683  0.049383  ...  0.008837 -0.016993   \n",
       "2000-01-07  0.006981  0.010101  0.030837 -0.000735  ...  0.046715  0.027926   \n",
       "2000-01-10 -0.025997  0.006000 -0.025641 -0.013981  ... -0.016736  0.000000   \n",
       "...              ...       ...       ...       ...  ...       ...       ...   \n",
       "2022-12-23  0.007251  0.015332  0.004420  0.026445  ...  0.009950  0.003008   \n",
       "2022-12-27  0.007303  0.005821  0.003444  0.013894  ...  0.006305  0.003155   \n",
       "2022-12-28 -0.006007 -0.008471 -0.010106 -0.016426  ... -0.012139 -0.009163   \n",
       "2022-12-29  0.005418  0.008120  0.010273  0.007566  ...  0.009249  0.017399   \n",
       "2022-12-30 -0.012229 -0.013845 -0.002542  0.010073  ... -0.007201 -0.007934   \n",
       "\n",
       "PERMNO         85348     85631     85913     85914     85926     86136  \\\n",
       "date                                                                     \n",
       "2000-01-04 -0.020101 -0.048689 -0.006148 -0.002174  0.038323  0.010830   \n",
       "2000-01-05  0.005128 -0.062992  0.016495 -0.023965  0.000000  0.021429   \n",
       "2000-01-06 -0.008503 -0.060924  0.014199  0.015625  0.026528  0.027972   \n",
       "2000-01-07 -0.022298  0.118568  0.028000  0.024176  0.035955 -0.020408   \n",
       "2000-01-10  0.040351 -0.012000  0.052529 -0.010730  0.029284 -0.010417   \n",
       "...              ...       ...       ...       ...       ...       ...   \n",
       "2022-12-23  0.000621  0.000319  0.009238  0.011061  0.009905  0.004521   \n",
       "2022-12-27  0.007758 -0.009938 -0.001548  0.006269  0.002002  0.006910   \n",
       "2022-12-28 -0.004542 -0.023565 -0.018537 -0.020645 -0.021374 -0.015865   \n",
       "2022-12-29  0.005259  0.034195  0.016277  0.013347  0.022658 -0.002815   \n",
       "2022-12-30 -0.014694 -0.006645  0.006217 -0.012678 -0.004391 -0.008596   \n",
       "\n",
       "PERMNO         87055     92655  \n",
       "date                            \n",
       "2000-01-04 -0.054775 -0.012791  \n",
       "2000-01-05  0.017088 -0.002356  \n",
       "2000-01-06  0.020088  0.036600  \n",
       "2000-01-07  0.066237  0.117312  \n",
       "2000-01-10  0.020819 -0.017329  \n",
       "...              ...       ...  \n",
       "2022-12-23  0.008589  0.008006  \n",
       "2022-12-27 -0.008970  0.001280  \n",
       "2022-12-28 -0.012017 -0.006654  \n",
       "2022-12-29  0.007815  0.002706  \n",
       "2022-12-30 -0.000066  0.000566  \n",
       "\n",
       "[5786 rows x 200 columns]"
      ]
     },
     "execution_count": 36,
     "metadata": {},
     "output_type": "execute_result"
    }
   ],
   "source": [
    "returns.clip(lower=returns, upper=returns)"
   ]
  },
  {
   "cell_type": "code",
   "execution_count": 32,
   "metadata": {},
   "outputs": [],
   "source": [
    "from cvx.covariance.ewma import iterated_ewma\n",
    "\n",
    "iewma2 = iterated_ewma(returns.loc[:], vola_halflife=63, cov_halflife=125, min_periods_vola=21, min_periods_cov=250)"
   ]
  },
  {
   "cell_type": "code",
   "execution_count": 54,
   "metadata": {},
   "outputs": [],
   "source": [
    "iewma_no_clip = iterated_ewma(returns.loc['2010-01-01':], vola_halflife=63, cov_halflife=125, min_periods_vola=21, min_periods_cov=250)\n",
    "\n",
    "iewma_clip = iterated_ewma(returns.loc['2010-01-01':], vola_halflife=63, cov_halflife=125, min_periods_vola=21, min_periods_cov=250, clip_at=3)\n",
    "\n",
    "iewma_reg = iterated_ewma(returns.loc['2010-01-01':], vola_halflife=63, cov_halflife=123, min_periods_vola=21, min_periods_cov=250, low_rank=50)\n",
    "\n",
    "iewma_clip_reg = iterated_ewma(returns.loc['2010-01-01':], vola_halflife=63, cov_halflife=123, min_periods_vola=21, min_periods_cov=250, low_rank=50, clip_at=3)\n"
   ]
  },
  {
   "cell_type": "code",
   "execution_count": 27,
   "metadata": {},
   "outputs": [],
   "source": [
    "# Prescient predictor\n",
    "prescient = {}\n",
    "for t in returns.index:\n",
    "    # get sample covariance matrix for corresponding year\n",
    "    year = t.year\n",
    "    cov = np.cov(returns.loc[returns.index.year == year].values, rowvar=False)\n",
    "    prescient[t] = pd.DataFrame(cov, index=returns.columns, columns=returns.columns)"
   ]
  },
  {
   "cell_type": "markdown",
   "metadata": {},
   "source": [
    "# Log-likelihoods"
   ]
  },
  {
   "cell_type": "code",
   "execution_count": 38,
   "metadata": {},
   "outputs": [
    {
     "name": "stdout",
     "output_type": "stream",
     "text": [
      "Computing No clipping log-likelihood...\n",
      "Computing Clip at 3 sigma log-likelihood...\n",
      "Computing Clip at 3 sigma, low rank 50 log-likelihood...\n",
      "Computing Prescient log-likelihood...\n"
     ]
    }
   ],
   "source": [
    "predictors = [iewma_no_clip, iewma_clip, iewma_reg, iewma_clip_reg, prescient]\n",
    "\n",
    "ll = {}\n",
    "\n",
    "names = [\"No clipping\", \"Clip at 3 sigma\", \"Low rank 50\" \"Clip at 3 sigma, low rank 50\", \"Prescient\"]\n",
    "\n",
    "for i, predictor in enumerate(predictors):\n",
    "    print(\"Computing \" + names[i] + \" log-likelihood...\")\n",
    "    returns_temp = returns.loc[pd.Series(predictor).index].values[1:]\n",
    "    times = pd.Series(predictor).index[1:]\n",
    "    Sigmas_temp = np.stack([predictor[t].values for t in predictor.keys()])[:-1]\n",
    "\n",
    "    ll[names[i]] = pd.Series(log_likelihood(returns_temp*100, Sigmas_temp*10000), index=times)"
   ]
  },
  {
   "cell_type": "code",
   "execution_count": 59,
   "metadata": {},
   "outputs": [
    {
     "name": "stdout",
     "output_type": "stream",
     "text": [
      "\n",
      "No clipping\n",
      "591.923 2002.672 13632.818\n",
      "\n",
      "Clip at 3 sigma\n",
      "639.834 2046.641 13916.908\n",
      "\n",
      "Clip at 3 sigma, low rank 50\n",
      "452.16 1217.32 8000.404\n",
      "\n",
      "Prescient\n",
      "0.0 0.0 0.0\n",
      "\n",
      "Low rank (no clipping)\n",
      "404.218 1146.903 7525.876\n"
     ]
    },
    {
     "data": {
      "image/png": "[encoded data removed]",
      "text/plain": [
       "<Figure size 640x480 with 1 Axes>"
      ]
     },
     "metadata": {},
     "output_type": "display_data"
    }
   ],
   "source": [
    "for i, name in enumerate(ll):\n",
    "    regret = (ll[\"Prescient\"] - ll[name]).resample(\"Q\").mean()\n",
    "    plt.plot(regret, label=name)\n",
    "\n",
    "    print(\"\\n\" + name)\n",
    "    print(np.round(regret.mean(),3), np.round(regret.std(),3), np.round(regret.max(),3))\n",
    "plt.legend()\n",
    "plt.title(\"Log-likelihood regret\")\n",
    "plt.ylim(0,500)\n",
    "plt.xlim([*predictors[0].keys()][0], returns.index[-1]);"
   ]
  },
  {
   "cell_type": "code",
   "execution_count": 31,
   "metadata": {},
   "outputs": [
    {
     "data": {
      "text/plain": [
       "'No clipping'"
      ]
     },
     "execution_count": 31,
     "metadata": {},
     "output_type": "execute_result"
    }
   ],
   "source": [
    "names[i]"
   ]
  },
  {
   "cell_type": "code",
   "execution_count": 28,
   "metadata": {},
   "outputs": [
    {
     "name": "stdout",
     "output_type": "stream",
     "text": [
      "Computing Prescient log-likelihood...\n"
     ]
    }
   ],
   "source": [
    "predictor = prescient\n",
    "print(\"Computing \" + names[i] + \" log-likelihood...\")\n",
    "returns_temp = returns.loc[pd.Series(predictor).index].values[1:]\n",
    "times = pd.Series(predictor).index[1:]\n",
    "Sigmas_temp = np.stack([predictor[t].values for t in predictor.keys()])[:-1]\n",
    "\n",
    "ll[names[i]] = log_likelihood(returns_temp*100, Sigmas_temp*10000)"
   ]
  },
  {
   "cell_type": "code",
   "execution_count": null,
   "metadata": {},
   "outputs": [],
   "source": [
    "r_temp = returns.loc[pd.Series(iewma).index].values[1:]\n",
    "times = pd.Series(iewma).index[1:]\n",
    "Sigmas_temp = np.stack([iewma[t].values for t in iewma.keys()])[:-1]\n",
    "\n",
    "ll = log_likelihood(r_temp*100, Sigmas_temp*10000, means=None)\n",
    "ll = pd.Series(ll, index=times)"
   ]
  }
 ],
 "metadata": {
  "kernelspec": {
   "display_name": "covariance",
   "language": "python",
   "name": "covariance"
  },
  "language_info": {
   "codemirror_mode": {
    "name": "ipython",
    "version": 3
   },
   "file_extension": ".py",
   "mimetype": "text/x-python",
   "name": "python",
   "nbconvert_exporter": "python",
   "pygments_lexer": "ipython3",
   "version": "3.9.12"
  },
  "orig_nbformat": 4,
  "vscode": {
   "interpreter": {
    "hash": "9d86e0b57fa6e6389561eff3b1ed41f041ef9c8aa5c477b83c0f13b592ecdc7c"
   }
  }
 },
 "nbformat": 4,
 "nbformat_minor": 2
}
